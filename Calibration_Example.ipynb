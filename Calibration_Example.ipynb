{
 "cells": [
  {
   "cell_type": "code",
   "execution_count": 1,
   "metadata": {},
   "outputs": [],
   "source": [
    "import pandas as pd\n",
    "import numpy as np\n",
    "import matplotlib.pyplot as plt\n",
    "\n",
    "import DCCSMLM"
   ]
  },
  {
   "cell_type": "code",
   "execution_count": 2,
   "metadata": {},
   "outputs": [
    {
     "data": {
      "text/plain": [
       "array([[0.28210983, 0.16440547],\n",
       "       [0.28293548, 0.16420803],\n",
       "       [0.32270754, 0.16872474],\n",
       "       ...,\n",
       "       [0.32581867, 0.17391189],\n",
       "       [0.23705912, 0.15883208],\n",
       "       [0.37102433, 0.17589973]])"
      ]
     },
     "execution_count": 2,
     "metadata": {},
     "output_type": "execute_result"
    }
   ],
   "source": [
    "only_p = False  # Set this to True if only p (but not m) should be considered -> use Eq. 1\n",
    "\n",
    "\n",
    "reference = DCCSMLM.DCCReferenceProteins(\"ExampleData/CalibrationValues.csv\", \"rate_mVenus\", \"stoichiometry\")\n",
    "reference.reference_bootstrap(10_000, save_result=True, only_p=only_p) # Run bootstrap with 10000 resamples\n",
    "\n"
   ]
  },
  {
   "cell_type": "code",
   "execution_count": 4,
   "metadata": {},
   "outputs": [
    {
     "name": "stdout",
     "output_type": "stream",
     "text": [
      "Mean m: 0.299100237219069, 95% CI: 0.2050693378775436 - 0.38859355575232046\n",
      "Mean p: 0.16558736730231036, 95% CI: 0.15026584757013228 - 0.1814834474507337\n",
      "R² = 0.9670026616690833\n"
     ]
    },
    {
     "data": {
      "image/png": "[encoded data removed]",
      "text/plain": [
       "<Figure size 432x288 with 1 Axes>"
      ]
     },
     "metadata": {
      "needs_background": "light"
     },
     "output_type": "display_data"
    }
   ],
   "source": [
    "\n",
    "# Print p and m\n",
    "print(f\"Mean m: {reference.m}, 95% CI: {reference.m_ci[0]} - {reference.m_ci[1]}\")\n",
    "print(f\"Mean p: {reference.p}, 95% CI: {reference.p_ci[0]} - {reference.p_ci[1]}\")\n",
    "\n",
    "# Print the r^2\n",
    "corr_matrix = np.corrcoef(reference.reference_mean, reference.E(n=4, only_p=only_p))\n",
    "corr = corr_matrix[0,1]\n",
    "R_sq = corr**2\n",
    " \n",
    "print(f\"R² = {R_sq}\")\n",
    "\n",
    "# Plot the information\n",
    "plt.figure()\n",
    "plt.plot(range(1,5), reference.reference_mean, \"bo\") # Experimentally determined means\n",
    "# Experimentally determined standard deviations\n",
    "plt.errorbar(range(1,5), reference.reference_mean, yerr=reference.reference_std, capsize=10, lw=1, fmt=\"none\")\n",
    "# Horizontal lines indicate expected colocalization values based on the mean values for p and m of the bootstrap\n",
    "[plt.axhline(e, color=\"red\", ls=\"--\", lw=0.5) for e in reference.E(n=4)]\n",
    "plt.show()"
   ]
  },
  {
   "cell_type": "code",
   "execution_count": null,
   "metadata": {},
   "outputs": [],
   "source": []
  }
 ],
 "metadata": {
  "kernelspec": {
   "display_name": "Python 3 (ipykernel)",
   "language": "python",
   "name": "python3"
  },
  "language_info": {
   "codemirror_mode": {
    "name": "ipython",
    "version": 3
   },
   "file_extension": ".py",
   "mimetype": "text/x-python",
   "name": "python",
   "nbconvert_exporter": "python",
   "pygments_lexer": "ipython3",
   "version": "3.9.7"
  }
 },
 "nbformat": 4,
 "nbformat_minor": 2
}
