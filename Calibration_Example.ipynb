{
 "cells": [
  {
   "cell_type": "code",
   "execution_count": 1,
   "metadata": {},
   "outputs": [],
   "source": [
    "import pandas as pd\n",
    "import numpy as np\n",
    "import matplotlib.pyplot as plt\n",
    "from scipy.optimize import curve_fit\n",
    "from scipy.special import binom"
   ]
  },
  {
   "cell_type": "code",
   "execution_count": 18,
   "metadata": {},
   "outputs": [],
   "source": [
    "reference = pd.read_csv(\"ExampleData/CalibrationValues.csv\")\n",
    "ref_mean = reference.groupby(\"stoichiometry\").mean().rate_mVenus.to_list()\n",
    "ref_sd = reference.groupby(\"stoichiometry\").std().rate_mVenus.to_list()\n"
   ]
  },
  {
   "cell_type": "code",
   "execution_count": 4,
   "metadata": {},
   "outputs": [],
   "source": [
    "def calc_P(n, p1, p2):\n",
    "    \"\"\"\n",
    "    # Calculates the probability of detecting pamCherry colocalizing with a detected mVenus cluster.\n",
    "    # n: oligomeric state;\n",
    "    # p1: the probability of finding intact mVenus;\n",
    "    # p2: the probability of detecting a pamCherry when its preceding mVenus is intact;\n",
    "    #\n",
    "    \"\"\"\n",
    "    def _calc(k):\n",
    "        return (1 - (1-p2)**k) * (binom(n,k) * p1**k * (1-p1)**(n-k)) / (1-(1-p1)**n)\n",
    "    k_list = range(1, n+1)\n",
    "    P_list = list(map(_calc, k_list))\n",
    "    P_sum = sum(P_list)\n",
    "    \n",
    "    return P_list, P_sum\n",
    "\n",
    "def cp(n_list, p1, p2):\n",
    "    # This function is just a wrapper to use calc_P with curve_fit\n",
    "    ret_s = []\n",
    "    for n in n_list:\n",
    "        l, s = calc_P(int(n), p1, p2)\n",
    "        ret_s = np.append(ret_s, s)\n",
    "        \n",
    "    return ret_s\n",
    "\n",
    "def bootstrap(n_samples):\n",
    "    \"\"\"\"\n",
    "    # Run a bootstrap resampling over the calibration values\n",
    "    #\n",
    "    # n_samples: Number of resamples\n",
    "    \"\"\"\n",
    "    \n",
    "    return_df = np.array([])\n",
    "    \n",
    "    for i in range(0, n_samples):\n",
    "        rs = reference.sample(frac=1, replace=True) # Resample from the reference distribution\n",
    "        rm = rs.groupby(\"stoichiometry\").mean().rate_mVenus.to_list() # Calculate mean values per stoichiometry\n",
    "        popt, pcov = curve_fit(cp, [1,2,3,4], rm, p0=(0.76, 0.17)) # Fit Eq. 6\n",
    "        return_df = np.append(return_df, popt) # Add the result to the return DataFrame\n",
    "    return return_df"
   ]
  },
  {
   "cell_type": "code",
   "execution_count": 30,
   "metadata": {},
   "outputs": [
    {
     "name": "stdout",
     "output_type": "stream",
     "text": [
      "Mean m: 0.7017520862195186, 95% CI: 0.6135635482851596 - 0.7918171469094911\n",
      "Mean p: 0.16544024407452243, 95% CI: 0.1506305962988593 - 0.18086215669506378\n"
     ]
    },
    {
     "data": {
      "image/png": "[encoded data removed]",
      "text/plain": [
       "<Figure size 432x288 with 1 Axes>"
      ]
     },
     "metadata": {
      "needs_background": "light"
     },
     "output_type": "display_data"
    }
   ],
   "source": [
    "bs = bootstrap(10000).reshape(-1,2) # Run bootstrap\n",
    "bs_mean = bs.mean(axis=0) # Calculate mean results\n",
    "\n",
    "\n",
    "print(f\"Mean m: {bs_mean[0]}, 95% CI: {np.percentile(bs, 2.5, axis=0)[0]} - {np.percentile(bs, 97.5, axis=0)[0]}\")\n",
    "print(f\"Mean p: {bs_mean[1]}, 95% CI: {np.percentile(bs, 2.5, axis=0)[1]} - {np.percentile(bs, 97.5, axis=0)[1]}\")\n",
    "\n",
    "\n",
    "\n",
    "plt.figure()\n",
    "\n",
    "plt.plot(range(1,5), ref_mean, \"bo\")\n",
    "plt.errorbar(range(1,5), ref_mean, yerr=ref_sd, capsize=10, lw=1, fmt=\"none\")\n",
    "[plt.axhline(calc_P(n, bs_mean[0], bs_mean[1])[1], color=\"red\", ls=\"--\", lw=0.5) for n in range(1,5)]\n",
    "plt.show()"
   ]
  },
  {
   "cell_type": "code",
   "execution_count": null,
   "metadata": {},
   "outputs": [],
   "source": []
  }
 ],
 "metadata": {
  "kernelspec": {
   "display_name": "Python 3 (ipykernel)",
   "language": "python",
   "name": "python3"
  },
  "language_info": {
   "codemirror_mode": {
    "name": "ipython",
    "version": 3
   },
   "file_extension": ".py",
   "mimetype": "text/x-python",
   "name": "python",
   "nbconvert_exporter": "python",
   "pygments_lexer": "ipython3",
   "version": "3.9.7"
  }
 },
 "nbformat": 4,
 "nbformat_minor": 2
}
