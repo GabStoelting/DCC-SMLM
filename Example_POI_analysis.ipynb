{
 "cells": [
  {
   "cell_type": "code",
   "execution_count": 1,
   "id": "0bb75dbb",
   "metadata": {},
   "outputs": [],
   "source": [
    "import matplotlib.pyplot as plt\n",
    "import numpy as np\n",
    "import pandas as pd\n",
    "import DCCSMLM"
   ]
  },
  {
   "cell_type": "code",
   "execution_count": 2,
   "id": "e77663a7",
   "metadata": {},
   "outputs": [],
   "source": [
    "# Load reference proteins from file\n",
    "reference = DCCSMLM.DCCReferenceProteins(\"ExampleData/CalibrationValues.csv\", \"rate_mVenus\", \"stoichiometry\")\n",
    "\n",
    "\n",
    "n_bootstrap = 10000 # Number of bootstrap resamples\n",
    "n_max = 4 # Maximum oligomeric state to consider"
   ]
  },
  {
   "cell_type": "code",
   "execution_count": 3,
   "id": "7953344f",
   "metadata": {},
   "outputs": [],
   "source": [
    "vglut1 = DCCSMLM.DCCProteinOfInterest(\"ExampleData/coloc_vGlut1.csv\", \"rate_mVenus\")\n",
    "vglut2 = DCCSMLM.DCCProteinOfInterest(\"ExampleData/coloc_vGlut2.csv\", \"rate_mVenus\")\n",
    "vglut3 = DCCSMLM.DCCProteinOfInterest(\"ExampleData/coloc_vGlut3.csv\", \"rate_mVenus\")\n",
    "sialin = DCCSMLM.DCCProteinOfInterest(\"ExampleData/coloc_sialin.csv\", \"rate_mVenus\")\n",
    "\n",
    "vglut = {\"vGlut1\": vglut1, \"vGlut2\": vglut2, \"vGlut3\": vglut3, \"Sialin\": sialin}\n",
    "\n"
   ]
  },
  {
   "cell_type": "code",
   "execution_count": null,
   "id": "a7acc7d9",
   "metadata": {},
   "outputs": [
    {
     "data": {
      "image/png": "[encoded data removed]",
      "text/plain": [
       "<Figure size 360x216 with 2 Axes>"
      ]
     },
     "metadata": {
      "needs_background": "light"
     },
     "output_type": "display_data"
    }
   ],
   "source": [
    "for isoform in vglut:\n",
    "    vglut[isoform].com_bootstrap(n_bootstrap, reference, reference_bootstrap=True, max_n=n_max)\n",
    "    vglut[isoform].KS(reference, save_results=True)\n",
    "\n",
    "\n",
    "    plt.figure(figsize=(5,3))\n",
    "    \n",
    "    plt.subplot(121)\n",
    "    plt.plot(range(1,n_max+1), vglut[isoform].bs_mean, marker=\"o\")\n",
    "    plt.errorbar(range(1,n_max+1), vglut[isoform].bs_mean, yerr=\n",
    "                 [(vglut[isoform].bs_mean-vglut[isoform].bs_lower_ci),\n",
    "                 (vglut[isoform].bs_upper_ci-vglut[isoform].bs_mean)],\n",
    "                capsize=10)\n",
    "    plt.ylabel(\"Coefficient of mismatch\")\n",
    "    plt.xlabel(\"Oligomeric state\")\n",
    "    \n",
    "    plt.title(isoform)\n",
    "    \n",
    "    plt.subplot(122)\n",
    "    plt.plot(range(1, n_max+1), vglut[isoform].ks, lw=0, marker=\"o\")\n",
    "    plt.ylim(0,1)\n",
    "    plt.ylabel(\"Kolmogorov-Smirnov test\")\n",
    "    plt.xlabel(\"Oligomeric state\")\n",
    "    plt.axhline(0.05/n_max)\n",
    "    \n",
    "    plt.tight_layout()\n",
    "    plt.show()"
   ]
  },
  {
   "cell_type": "code",
   "execution_count": null,
   "id": "dfc7780a",
   "metadata": {},
   "outputs": [],
   "source": [
    "slc26a3 = DCCSMLM.DCCProteinOfInterest(\"ExampleData/coloc_SLC26A3.csv\", \"rate_mVenus\")\n",
    "prestin = DCCSMLM.DCCProteinOfInterest(\"ExampleData/coloc_prestin.csv\", \"rate_mVenus\")\n",
    "\n",
    "slc26 = {\"SLC26A3\": slc26a3, \"SLC26A5\": prestin}\n",
    "\n"
   ]
  },
  {
   "cell_type": "code",
   "execution_count": null,
   "id": "1033adcc",
   "metadata": {},
   "outputs": [],
   "source": [
    "for isoform in slc26:\n",
    "    slc26[isoform].com_bootstrap(n_bootstrap, reference, reference_bootstrap=True, max_n=n_max)\n",
    "    slc26[isoform].KS(reference, save_results=True)\n",
    "    \n",
    "    plt.figure(figsize=(5,3))\n",
    "    \n",
    "    plt.subplot(121)\n",
    "    plt.plot(range(1,n_max+1), slc26[isoform].bs_mean, marker=\"o\")\n",
    "    plt.errorbar(range(1,n_max+1), slc26[isoform].bs_mean, yerr=\n",
    "                 [(slc26[isoform].bs_mean-slc26[isoform].bs_lower_ci),\n",
    "                 (slc26[isoform].bs_upper_ci-slc26[isoform].bs_mean)],\n",
    "                capsize=10)\n",
    "    plt.ylabel(\"Coefficient of mismatch\")\n",
    "    plt.xlabel(\"Oligomeric state\")\n",
    "    \n",
    "    plt.title(isoform)\n",
    "    \n",
    "    plt.subplot(122)\n",
    "    plt.plot(range(1, n_max+1), slc26[isoform].ks, lw=0, marker=\"o\")\n",
    "    plt.ylim(0,1)\n",
    "    plt.ylabel(\"Kolmogorov-Smirnov test\")\n",
    "    plt.xlabel(\"Oligomeric state\")\n",
    "    plt.axhline(0.05/n_max)\n",
    "    \n",
    "    plt.tight_layout()\n",
    "    plt.show()"
   ]
  },
  {
   "cell_type": "code",
   "execution_count": null,
   "id": "95a42ce9",
   "metadata": {},
   "outputs": [],
   "source": []
  },
  {
   "cell_type": "code",
   "execution_count": null,
   "id": "58a13f54",
   "metadata": {},
   "outputs": [],
   "source": []
  }
 ],
 "metadata": {
  "kernelspec": {
   "display_name": "Python 3 (ipykernel)",
   "language": "python",
   "name": "python3"
  },
  "language_info": {
   "codemirror_mode": {
    "name": "ipython",
    "version": 3
   },
   "file_extension": ".py",
   "mimetype": "text/x-python",
   "name": "python",
   "nbconvert_exporter": "python",
   "pygments_lexer": "ipython3",
   "version": "3.9.7"
  }
 },
 "nbformat": 4,
 "nbformat_minor": 5
}
